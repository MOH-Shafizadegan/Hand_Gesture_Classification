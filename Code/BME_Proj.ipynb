{
 "cells": [
  {
   "cell_type": "markdown",
   "metadata": {},
   "source": [
    "<h1 align=\"center\"> Principals of Biomedical Engineering </h1>\n",
    "<h3 align=\"center\"> Dr. M. Jahed </h3>\n",
    "<br>\n",
    "<h2 align=\"center\"> EMG Classificatioh </h2>\n",
    "<br>\n",
    "<h4 align=\"center\">Mohammad Hossein Shafieizadegan</h4>\n",
    "<h4 align=\"center\">Navid Bagheri Shouraki</h4>"
   ]
  },
  {
   "cell_type": "markdown",
   "metadata": {},
   "source": [
    "# Load Data\n",
    "\n",
    "Load the dataset, whether our own acquired data or online free available dataset"
   ]
  },
  {
   "cell_type": "code",
   "execution_count": null,
   "metadata": {},
   "outputs": [],
   "source": []
  },
  {
   "cell_type": "markdown",
   "metadata": {},
   "source": [
    "# Signal Preprocessing\n",
    "\n",
    "The following steps must be done:\n",
    "- Bandpass Filtering\n",
    "- Notch filter\n",
    "- Z-score"
   ]
  },
  {
   "cell_type": "code",
   "execution_count": null,
   "metadata": {},
   "outputs": [],
   "source": []
  },
  {
   "cell_type": "markdown",
   "metadata": {},
   "source": [
    "# Signal Windowing"
   ]
  },
  {
   "cell_type": "code",
   "execution_count": null,
   "metadata": {},
   "outputs": [],
   "source": []
  },
  {
   "cell_type": "markdown",
   "metadata": {},
   "source": [
    "# Feature Extraction\n",
    "\n",
    "Recommended features:\n",
    "- Mean absolute value (MAV)\n",
    "- Standard deviation (STD)\n",
    "- Variance (VAR)\n",
    "- Waveform length (WL)\n",
    "- Zero crossing (ZC)\n",
    "- Root mean square (RMS)\n",
    "- Number of peaks (NP)\n",
    "- Slope sign change (SSC)\n",
    "- Correlation coefficient (Cor)\n",
    "- Integrated absolute value (IAV)"
   ]
  },
  {
   "cell_type": "code",
   "execution_count": null,
   "metadata": {},
   "outputs": [],
   "source": []
  },
  {
   "cell_type": "markdown",
   "metadata": {},
   "source": [
    "# Classification and model training"
   ]
  },
  {
   "cell_type": "code",
   "execution_count": null,
   "metadata": {},
   "outputs": [],
   "source": []
  }
 ],
 "metadata": {
  "language_info": {
   "name": "python"
  }
 },
 "nbformat": 4,
 "nbformat_minor": 2
}
