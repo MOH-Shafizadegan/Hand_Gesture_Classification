{
 "cells": [
  {
   "cell_type": "markdown",
   "metadata": {},
   "source": [
    "<h1 align=\"center\"> Principals of Biomedical Engineering </h1>\n",
    "<h3 align=\"center\"> Dr. M. Jahed </h3>\n",
    "<br>\n",
    "<h2 align=\"center\"> EMG Classificatioh </h2>\n",
    "<br>\n",
    "<h4 align=\"center\">Mohammad Hossein Shafieizadegan</h4>\n",
    "<h4 align=\"center\">Navid Bagheri Shouraki</h4>"
   ]
  },
  {
   "cell_type": "markdown",
   "metadata": {},
   "source": [
    "# Add Required packages"
   ]
  },
  {
   "cell_type": "code",
   "execution_count": null,
   "metadata": {},
   "outputs": [],
   "source": [
    "import pandas as pd\n",
    "import numpy as np\n",
    "from scipy.signal import butter, filtfilt, iirnotch\n",
    "from sklearn.preprocessing import StandardScaler"
   ]
  },
  {
   "cell_type": "markdown",
   "metadata": {},
   "source": [
    "# Load Data\n",
    "\n",
    "Load the dataset, whether our own acquired data or online free available dataset"
   ]
  },
  {
   "cell_type": "code",
   "execution_count": null,
   "metadata": {},
   "outputs": [],
   "source": []
  },
  {
   "cell_type": "markdown",
   "metadata": {},
   "source": [
    "# Signal Preprocessing\n",
    "\n",
    "The following steps must be done:\n",
    "- Bandpass Filtering\n",
    "- Notch filter\n",
    "- Z-score"
   ]
  },
  {
   "cell_type": "markdown",
   "metadata": {},
   "source": [
    "### Bandpass filtering\n",
    "\n",
    "We will utilize a bandpass filter regarding the frequency range of EMG signals"
   ]
  },
  {
   "cell_type": "code",
   "execution_count": null,
   "metadata": {},
   "outputs": [],
   "source": [
    "def butter_bandpass_filter(data, lowcut, highcut, fs, order=4):\n",
    "    nyq = 0.5 * fs\n",
    "    low = lowcut / nyq\n",
    "    high = highcut / nyq\n",
    "    b, a = butter(order, [low, high], btype='band')\n",
    "    y = filtfilt(b, a, data)\n",
    "    return y"
   ]
  },
  {
   "cell_type": "code",
   "execution_count": null,
   "metadata": {},
   "outputs": [],
   "source": [
    "fs = 1000\n",
    "f_low = 20\n",
    "f_high = 200\n",
    "\n",
    "emg_signal_bandpass = butter_bandpass_filter(emg_signal, f_low, f_high, fs)"
   ]
  },
  {
   "cell_type": "markdown",
   "metadata": {},
   "source": [
    "### Notch filter\n",
    "Applying `50 Hz` notch filter"
   ]
  },
  {
   "cell_type": "code",
   "execution_count": null,
   "metadata": {},
   "outputs": [],
   "source": [
    "def notch_filter(data, notch_freq, fs, Q=30):\n",
    "    nyq = 0.5 * fs\n",
    "    f0 = notch_freq / nyq\n",
    "    b, a = iirnotch(f0, Q)\n",
    "    y = filtfilt(b, a, data)\n",
    "    return y"
   ]
  },
  {
   "cell_type": "code",
   "execution_count": null,
   "metadata": {},
   "outputs": [],
   "source": [
    "notch_freq = 50\n",
    "emg_signal_notch = notch_filter(emg_signal_bandpass, notch_freq, fs)"
   ]
  },
  {
   "cell_type": "markdown",
   "metadata": {},
   "source": [
    "### Z-score normalization"
   ]
  },
  {
   "cell_type": "code",
   "execution_count": null,
   "metadata": {},
   "outputs": [],
   "source": [
    "# Step 3: Z-score normalization\n",
    "scaler = StandardScaler()\n",
    "emg_signal_normalized = scaler.fit_transform(emg_signal_notch.reshape(-1, 1)).flatten()\n",
    "\n",
    "# Update the DataFrame with the preprocessed signal\n",
    "df['EMG_signal_preprocessed'] = emg_signal_normalized"
   ]
  },
  {
   "cell_type": "markdown",
   "metadata": {},
   "source": [
    "# Signal Windowing"
   ]
  },
  {
   "cell_type": "code",
   "execution_count": null,
   "metadata": {},
   "outputs": [],
   "source": [
    "def window_signal(emg_signal, window_length, window_step):\n",
    "    \n",
    "    windows = []\n",
    "    num_samples = len(emg_signal)\n",
    "\n",
    "    for start in range(0, num_samples - window_length + 1, window_step):\n",
    "        end = start + window_length\n",
    "\n",
    "        # Extract window of the signal\n",
    "        windowed_signal = emg_signal[start:end]\n",
    "\n",
    "        # Append the window to the list\n",
    "        windows.append(windowed_signal)\n",
    "\n",
    "    return windows\n",
    "\n",
    "signal_windows = window_signal(emg_signal_normalized, window_length, window_step)"
   ]
  },
  {
   "cell_type": "markdown",
   "metadata": {},
   "source": [
    "# Feature Extraction\n",
    "\n",
    "Recommended features:\n",
    "- Mean absolute value (MAV)\n",
    "- Standard deviation (STD)\n",
    "- Variance (VAR)\n",
    "- Waveform length (WL)\n",
    "- Zero crossing (ZC)\n",
    "- Root mean square (RMS)\n",
    "- Number of peaks (NP)\n",
    "- Slope sign change (SSC)\n",
    "- Correlation coefficient (Cor)\n",
    "- Integrated absolute value (IAV)"
   ]
  },
  {
   "cell_type": "markdown",
   "metadata": {},
   "source": [
    "#### Defining each feature"
   ]
  },
  {
   "cell_type": "code",
   "execution_count": null,
   "metadata": {},
   "outputs": [],
   "source": [
    "import numpy as np\n",
    "from scipy.stats import skew, kurtosis\n",
    "\n",
    "def mean_absolute_value(signal):\n",
    "    return np.mean(np.abs(signal))\n",
    "\n",
    "def standard_deviation(signal):\n",
    "    return np.std(signal)\n",
    "\n",
    "def variance(signal):\n",
    "    return np.var(signal)\n",
    "\n",
    "def waveform_length(signal):\n",
    "    return np.sum(np.abs(np.diff(signal)))\n",
    "\n",
    "def zero_crossing(signal):\n",
    "    return np.sum(np.diff(np.sign(signal)) != 0)\n",
    "\n",
    "def root_mean_square(signal):\n",
    "    return np.sqrt(np.mean(np.square(signal)))\n",
    "\n",
    "def number_of_peaks(signal):\n",
    "    peaks, _ = find_peaks(signal)\n",
    "    return len(peaks)\n",
    "\n",
    "def slope_sign_change(signal):\n",
    "    return np.sum(np.diff(np.sign(np.diff(signal))) != 0)\n",
    "\n",
    "def correlation_coefficient(signal1, signal2):\n",
    "    return np.corrcoef(signal1, signal2)[0, 1]\n",
    "\n",
    "def integrated_absolute_value(signal):\n",
    "    return np.sum(np.abs(signal))\n",
    "\n",
    "def find_peaks(signal, height=0):\n",
    "    peaks, _ = find_peaks(signal, height=height)\n",
    "    return peaks"
   ]
  },
  {
   "cell_type": "markdown",
   "metadata": {},
   "source": [
    "### Applying these features to the dataset"
   ]
  },
  {
   "cell_type": "code",
   "execution_count": null,
   "metadata": {},
   "outputs": [],
   "source": [
    "def calculate_features_for_windows(signal_windows):\n",
    "    features = []\n",
    "\n",
    "    for window in signal_windows:\n",
    "        mav = mean_absolute_value(window)\n",
    "        std = standard_deviation(window)\n",
    "        var = variance(window)\n",
    "        wl = waveform_length(window)\n",
    "        zc = zero_crossing(window)\n",
    "        rms = root_mean_square(window)\n",
    "        npk = number_of_peaks(window)\n",
    "        ssc = slope_sign_change(window)\n",
    "        cor = correlation_coefficient(window, window)  # Example using the same window for correlation\n",
    "        iav = integrated_absolute_value(window)\n",
    "\n",
    "        features.append([mav, std, var, wl, zc, rms, npk, ssc, cor, iav])\n",
    "\n",
    "    # Create a DataFrame from the features list\n",
    "    columns = ['MAV', 'STD', 'VAR', 'WL', 'ZC', 'RMS', 'NP', 'SSC', 'Cor', 'IAV']\n",
    "    features_df = pd.DataFrame(features, columns=columns)\n",
    "\n",
    "    return features_df"
   ]
  },
  {
   "cell_type": "markdown",
   "metadata": {},
   "source": [
    "# Classification and model training"
   ]
  },
  {
   "cell_type": "code",
   "execution_count": null,
   "metadata": {},
   "outputs": [],
   "source": []
  }
 ],
 "metadata": {
  "language_info": {
   "name": "python"
  }
 },
 "nbformat": 4,
 "nbformat_minor": 2
}
